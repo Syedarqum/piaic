{
 "cells": [
  {
   "cell_type": "code",
   "execution_count": null,
   "metadata": {},
   "outputs": [],
   "source": [
    "###makssheet\n",
    "sub1=int(input(\"Enter marks of the first subject: \"))\n",
    "sub2=int(input(\"Enter marks of the second subject: \"))\n",
    "sub3=int(input(\"Enter marks of the third subject: \"))\n",
    "sub4=int(input(\"Enter marks of the fourth subject: \"))\n",
    "sub5=int(input(\"Enter marks of the fifth subject: \"))\n",
    "avg=(sub1+sub2+sub3+sub4+sub4)/5\n",
    "if(avg>=90):\n",
    "    print(\"Grade: A\")\n",
    "elif(avg>=80&avg<90):\n",
    "    print(\"Grade: B\")\n",
    "elif(avg>=70&avg<80):\n",
    "    print(\"Grade: C\")\n",
    "elif(avg>=60&avg<70):\n",
    "    print(\"Grade: D\")\n",
    "else:\n",
    "    print(\"Grade: F\")"
   ]
  },
  {
   "cell_type": "code",
   "execution_count": null,
   "metadata": {},
   "outputs": [],
   "source": [
    "num1 = int(input(\"enter num to divide:\"))\n",
    "num2 = int(input(\"enter num to divide:\"))\n",
    "if num1%num2==0:\n",
    "    print (\"it is completely divisible\")\n",
    "else:\n",
    "    print(\"it is not completely divisible\")    \n",
    "\n",
    "                            \n",
    "        "
   ]
  },
  {
   "cell_type": "code",
   "execution_count": null,
   "metadata": {},
   "outputs": [],
   "source": [
    "string = input (\"enter string:\")\n",
    "num = int(input(\"enter num to multiply:\"))\n",
    "copies = string * num\n",
    "print (copies)\n"
   ]
  },
  {
   "cell_type": "code",
   "execution_count": null,
   "metadata": {},
   "outputs": [],
   "source": [
    "num = int(input(\"enter no to check:\"))\n",
    "if num%2!=0:\n",
    "    print (\"number is odd\")\n",
    "else :\n",
    "    print(\"it is even\")    \n"
   ]
  },
  {
   "cell_type": "code",
   "execution_count": null,
   "metadata": {},
   "outputs": [],
   "source": [
    "vowel = input(\"enter letter to check: \")\n",
    "if vowel==\"a\":\n",
    "    print (\"A is a vowel\")\n",
    "if vowel==\"e\":\n",
    "    print (\"E is a vowel\")  \n",
    "if vowel==\"i\":\n",
    "    print (\"I is a vowel\")\n",
    "if vowel==\"o\":\n",
    "    print (\"O is a vowel\")\n",
    "if vowel==\"u\":\n",
    "    print (\"U is a vowel\")       \n",
    "elif vowel==\"bcdfghjklmnpqrstvwxyz\" :\n",
    "    \n",
    "    print (\"it is not a vowel:\")          \n",
    "\n"
   ]
  },
  {
   "cell_type": "code",
   "execution_count": null,
   "metadata": {},
   "outputs": [],
   "source": [
    "radius =  float(input(\"enter radius to calculate:\"))\n",
    "Areaofcircle = 3.149*radius**2\n",
    "print (Areaofcircle)\n"
   ]
  },
  {
   "cell_type": "code",
   "execution_count": null,
   "metadata": {},
   "outputs": [],
   "source": [
    "###Number checker\n",
    "num = float(input(\"enter number to check:\"))\n",
    "if num<0:\n",
    "    print(\"number is negative:\")\n",
    "\n",
    "if num>0:\n",
    "    print (\"number is postive\")\n",
    "if num==0:\n",
    "    print(\"number is zero\")\n",
    "        "
   ]
  },
  {
   "cell_type": "code",
   "execution_count": null,
   "metadata": {},
   "outputs": [],
   "source": [
    "w=input(\"enter word\")\n",
    "if(w==w[::-1]):\n",
    "\tprint(\"It is palindrome\")\n",
    "else:\n",
    "   \n",
    "   print(\"It is not palindrome\")\n"
   ]
  },
  {
   "cell_type": "code",
   "execution_count": null,
   "metadata": {},
   "outputs": [],
   "source": []
  }
 ],
 "metadata": {
  "kernelspec": {
   "display_name": "Python 3",
   "language": "python",
   "name": "python3"
  },
  "language_info": {
   "codemirror_mode": {
    "name": "ipython",
    "version": 3
   },
   "file_extension": ".py",
   "mimetype": "text/x-python",
   "name": "python",
   "nbconvert_exporter": "python",
   "pygments_lexer": "ipython3",
   "version": "3.7.1"
  }
 },
 "nbformat": 4,
 "nbformat_minor": 2
}
